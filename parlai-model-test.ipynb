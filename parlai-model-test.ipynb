{
 "cells": [
  {
   "cell_type": "code",
   "execution_count": null,
   "metadata": {},
   "outputs": [],
   "source": [
    "!nvidia-smi"
   ]
  },
  {
   "cell_type": "code",
   "execution_count": null,
   "metadata": {},
   "outputs": [],
   "source": [
    "!pip install -q parlai\n",
    "!pip install -q subword_nmt # extra requirement we need for this tutorial"
   ]
  },
  {
   "cell_type": "code",
   "execution_count": null,
   "metadata": {},
   "outputs": [],
   "source": [
    "import parlai\n",
    "\n",
    "# Import the Interactive script\n",
    "from parlai.scripts.interactive import Interactive\n",
    "\n",
    "# call it with particular args\n",
    "Interactive.main(\n",
    "    # the model_file is a filename path pointing to a particular model dump.\n",
    "    # Model files that begin with \"zoo:\" are special files distributed by the ParlAI team.\n",
    "    # They'll be automatically downloaded when you ask to use them.\n",
    "    model_file='zoo:tutorial_transformer_generator/model'\n",
    ")"
   ]
  },
  {
   "cell_type": "code",
   "execution_count": null,
   "metadata": {},
   "outputs": [],
   "source": []
  }
 ],
 "metadata": {
  "interpreter": {
   "hash": "b145b32f810eb43c2063de074adc33bebdb31f281146d1ebd2b29b2a536b3312"
  },
  "kernelspec": {
   "display_name": "Python 3.8.13 ('parlai')",
   "language": "python",
   "name": "python3"
  },
  "language_info": {
   "name": "python",
   "version": "3.8.13"
  },
  "orig_nbformat": 4
 },
 "nbformat": 4,
 "nbformat_minor": 2
}
