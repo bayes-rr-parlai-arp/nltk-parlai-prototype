{
 "cells": [
  {
   "cell_type": "code",
   "execution_count": 1,
   "id": "a13349fe",
   "metadata": {
    "ExecuteTime": {
     "end_time": "2022-05-28T09:10:47.576505Z",
     "start_time": "2022-05-28T09:10:46.333866Z"
    }
   },
   "outputs": [],
   "source": [
    "import nltk\n",
    "from nltk.tokenize import word_tokenize"
   ]
  },
  {
   "cell_type": "code",
   "execution_count": 7,
   "id": "82de6b1d",
   "metadata": {
    "ExecuteTime": {
     "end_time": "2022-05-28T09:16:46.416956Z",
     "start_time": "2022-05-28T09:16:44.272531Z"
    }
   },
   "outputs": [
    {
     "name": "stderr",
     "output_type": "stream",
     "text": [
      "[nltk_data] Downloading package punkt to\n",
      "[nltk_data]     /Users/jankipopat/nltk_data...\n",
      "[nltk_data]   Package punkt is already up-to-date!\n",
      "[nltk_data] Downloading package averaged_perceptron_tagger to\n",
      "[nltk_data]     /Users/jankipopat/nltk_data...\n",
      "[nltk_data]   Unzipping taggers/averaged_perceptron_tagger.zip.\n"
     ]
    },
    {
     "data": {
      "text/plain": [
       "True"
      ]
     },
     "execution_count": 7,
     "metadata": {},
     "output_type": "execute_result"
    }
   ],
   "source": [
    "import nltk\n",
    "nltk.download(\"punkt\")\n",
    "nltk.download('averaged_perceptron_tagger')"
   ]
  },
  {
   "cell_type": "code",
   "execution_count": 8,
   "id": "40b2e764",
   "metadata": {
    "ExecuteTime": {
     "end_time": "2022-05-28T09:16:51.275918Z",
     "start_time": "2022-05-28T09:16:51.114609Z"
    }
   },
   "outputs": [
    {
     "name": "stdout",
     "output_type": "stream",
     "text": [
      "POS Tags :   [('hye', 'VB'), ('how', 'WRB'), ('are', 'VBP'), ('you', 'PRP')]\n"
     ]
    }
   ],
   "source": [
    "\"\"\"Part of Speech Conversion and Draw the Tree\"\"\"\n",
    "text = \"hye how are you\"\n",
    "tokenized_text = word_tokenize(text)\n",
    "pos_tags = nltk.pos_tag(tokenized_text)\n",
    "print(\"POS Tags :  \", pos_tags)"
   ]
  },
  {
   "cell_type": "code",
   "execution_count": 16,
   "id": "55b120ac",
   "metadata": {
    "ExecuteTime": {
     "end_time": "2022-05-28T09:32:46.852516Z",
     "start_time": "2022-05-28T09:32:46.847325Z"
    }
   },
   "outputs": [
    {
     "data": {
      "text/plain": [
       "['I', 'play', 'football', 'every', 'wednesday']"
      ]
     },
     "execution_count": 16,
     "metadata": {},
     "output_type": "execute_result"
    }
   ],
   "source": [
    "tokenized_text"
   ]
  },
  {
   "cell_type": "code",
   "execution_count": 19,
   "id": "72abe0c7",
   "metadata": {
    "ExecuteTime": {
     "end_time": "2022-05-28T09:52:55.284272Z",
     "start_time": "2022-05-28T09:52:55.278781Z"
    }
   },
   "outputs": [],
   "source": [
    "noun_list = []\n",
    "verb_list = []\n",
    "text = \"I play football every wednesday\"\n",
    "tokenized_text = word_tokenize(text)\n",
    "pos_tags = nltk.pos_tag(tokenized_text)\n",
    "# print(\"POS Tags :  \", pos_tags)\n",
    "for val in pos_tags:\n",
    "    if 'NN' in val[1]:\n",
    "        noun_list.append(val[0])\n",
    "    if 'VB' in val[1]:\n",
    "        verb_list.append(val[0])\n",
    "    # return noun_list"
   ]
  },
  {
   "cell_type": "code",
   "execution_count": 20,
   "id": "a19a1232",
   "metadata": {
    "ExecuteTime": {
     "end_time": "2022-05-28T09:53:00.356150Z",
     "start_time": "2022-05-28T09:53:00.352146Z"
    }
   },
   "outputs": [
    {
     "data": {
      "text/plain": [
       "['football', 'wednesday']"
      ]
     },
     "execution_count": 20,
     "metadata": {},
     "output_type": "execute_result"
    }
   ],
   "source": [
    "noun_list"
   ]
  },
  {
   "cell_type": "code",
   "execution_count": 21,
   "id": "2bbf405b",
   "metadata": {
    "ExecuteTime": {
     "end_time": "2022-05-28T09:53:14.237108Z",
     "start_time": "2022-05-28T09:53:14.232400Z"
    }
   },
   "outputs": [
    {
     "data": {
      "text/plain": [
       "['play']"
      ]
     },
     "execution_count": 21,
     "metadata": {},
     "output_type": "execute_result"
    }
   ],
   "source": [
    "verb_list"
   ]
  },
  {
   "cell_type": "code",
   "execution_count": 22,
   "id": "217cae3b",
   "metadata": {
    "ExecuteTime": {
     "end_time": "2022-05-28T10:06:36.653865Z",
     "start_time": "2022-05-28T10:06:34.149785Z"
    }
   },
   "outputs": [
    {
     "name": "stdout",
     "output_type": "stream",
     "text": [
      "[nltk_data] Downloading package punkt to\n",
      "[nltk_data]     /Users/jankipopat/nltk_data...\n",
      "[nltk_data]   Package punkt is already up-to-date!\n",
      "[nltk_data] Downloading package averaged_perceptron_tagger to\n",
      "[nltk_data]     /Users/jankipopat/nltk_data...\n",
      "[nltk_data]   Package averaged_perceptron_tagger is already up-to-\n",
      "[nltk_data]       date!\n",
      "POS Tags :   [('hye', 'VB'), ('how', 'WRB'), ('are', 'VBP'), ('you', 'PRP')]\n",
      "['hye', 'how', 'are', 'you']\n",
      "['football', 'wednesday']\n",
      "['play']\n"
     ]
    }
   ],
   "source": [
    "!python POS.py"
   ]
  },
  {
   "cell_type": "code",
   "execution_count": 23,
   "id": "7d42c489",
   "metadata": {
    "ExecuteTime": {
     "end_time": "2022-05-28T10:13:05.346138Z",
     "start_time": "2022-05-28T10:13:05.335681Z"
    }
   },
   "outputs": [
    {
     "name": "stderr",
     "output_type": "stream",
     "text": [
      "[nltk_data] Downloading package punkt to\n",
      "[nltk_data]     /Users/jankipopat/nltk_data...\n",
      "[nltk_data]   Package punkt is already up-to-date!\n",
      "[nltk_data] Downloading package averaged_perceptron_tagger to\n",
      "[nltk_data]     /Users/jankipopat/nltk_data...\n",
      "[nltk_data]   Package averaged_perceptron_tagger is already up-to-\n",
      "[nltk_data]       date!\n"
     ]
    }
   ],
   "source": [
    "from POS import noun_and_verb_detection"
   ]
  },
  {
   "cell_type": "code",
   "execution_count": 25,
   "id": "e2f35f06",
   "metadata": {
    "ExecuteTime": {
     "end_time": "2022-05-28T10:14:33.017920Z",
     "start_time": "2022-05-28T10:14:33.011935Z"
    }
   },
   "outputs": [
    {
     "name": "stdout",
     "output_type": "stream",
     "text": [
      "['netflix', 'tennis']\n",
      "['like', 'watch', 'play']\n"
     ]
    },
    {
     "data": {
      "text/plain": [
       "(['like', 'watch', 'play'], ['netflix', 'tennis'])"
      ]
     },
     "execution_count": 25,
     "metadata": {},
     "output_type": "execute_result"
    }
   ],
   "source": [
    "noun_and_verb_detection (\"I like to watch netflix and to play tennis\")"
   ]
  },
  {
   "cell_type": "code",
   "execution_count": null,
   "id": "ea9571fd",
   "metadata": {},
   "outputs": [],
   "source": []
  }
 ],
 "metadata": {
  "kernelspec": {
   "display_name": "Python 3 (ipykernel)",
   "language": "python",
   "name": "python3"
  },
  "language_info": {
   "codemirror_mode": {
    "name": "ipython",
    "version": 3
   },
   "file_extension": ".py",
   "mimetype": "text/x-python",
   "name": "python",
   "nbconvert_exporter": "python",
   "pygments_lexer": "ipython3",
   "version": "3.8.2"
  },
  "toc": {
   "base_numbering": 1,
   "nav_menu": {},
   "number_sections": true,
   "sideBar": true,
   "skip_h1_title": false,
   "title_cell": "Table of Contents",
   "title_sidebar": "Contents",
   "toc_cell": false,
   "toc_position": {},
   "toc_section_display": true,
   "toc_window_display": false
  },
  "varInspector": {
   "cols": {
    "lenName": 16,
    "lenType": 16,
    "lenVar": 40
   },
   "kernels_config": {
    "python": {
     "delete_cmd_postfix": "",
     "delete_cmd_prefix": "del ",
     "library": "var_list.py",
     "varRefreshCmd": "print(var_dic_list())"
    },
    "r": {
     "delete_cmd_postfix": ") ",
     "delete_cmd_prefix": "rm(",
     "library": "var_list.r",
     "varRefreshCmd": "cat(var_dic_list()) "
    }
   },
   "types_to_exclude": [
    "module",
    "function",
    "builtin_function_or_method",
    "instance",
    "_Feature"
   ],
   "window_display": false
  }
 },
 "nbformat": 4,
 "nbformat_minor": 5
}
